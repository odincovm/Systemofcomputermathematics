{
  "nbformat": 4,
  "nbformat_minor": 0,
  "metadata": {
    "colab": {
      "provenance": []
    },
    "kernelspec": {
      "name": "python3",
      "display_name": "Python 3"
    },
    "language_info": {
      "name": "python"
    }
  },
  "cells": [
    {
      "cell_type": "markdown",
      "source": [
        "Задание 41 \n",
        "Шар радиуса R и плотности p плавает в жидкости плотности p0. Требуется определить, на какую глубину погрузится в жидкость этот шар. Задача сводиться к решению кубического уровнения.\n",
        "\n",
        "\n"
      ],
      "metadata": {
        "id": "drBO_bb8jC0K"
      }
    },
    {
      "cell_type": "markdown",
      "source": [
        "1 Выведите это уровнение\n"
      ],
      "metadata": {
        "id": "jDdOURhvs44K"
      }
    },
    {
      "cell_type": "markdown",
      "source": [
        "Отношение объема погруженной части тела к полному обёму тела равно отношению плотности тела к плотности жидкости V(части тела)/V(всего тела)=p/p0.(1) V шара находиться по формуле = 4/3πR^3 V части шара находится по формуле = 3π*h^2(R-(h/2)) Подставляя эти формулы в уровнение 1 получаем кубическое уровнение для высоты:\n",
        "\n",
        "p0h^3-3p0Rh^2+4R^3p=0"
      ],
      "metadata": {
        "id": "ZAw_19JmtesI"
      }
    },
    {
      "cell_type": "markdown",
      "source": [
        "2 Решите его численно для значений\n",
        " \n",
        "    2.a R=1, p=500; p0=1000;"
      ],
      "metadata": {
        "id": "z9pPZdZXjWnt"
      }
    },
    {
      "cell_type": "markdown",
      "source": [
        "Чтобы решить воспользуемся методом brentq, при этом чтобы убрать лишние значения установим промежуток от 0 до 2*R, т.к глубина погружения не может быть отрицательной и тело плавает значит глубина не может быть больше диаметра шара.\n"
      ],
      "metadata": {
        "id": "REAuffNXpy2L"
      }
    },
    {
      "cell_type": "code",
      "source": [
        "from scipy import optimize\n",
        "def F2a(h):\n",
        "    return 1000*h**3-3000*h**2+4*500\n",
        "h,r = brentq(F2a, 0, 2,full_output = True)\n",
        "print(h,r)"
      ],
      "metadata": {
        "id": "BiJSz-yNi-h4",
        "colab": {
          "base_uri": "https://localhost:8080/"
        },
        "outputId": "a9c313f6-ab5c-4564-d83f-305accfd5ecf"
      },
      "execution_count": 35,
      "outputs": [
        {
          "output_type": "stream",
          "name": "stdout",
          "text": [
            "[0.0, 2.0, 1.0]\n",
            "1.0       converged: True\n",
            "           flag: 'converged'\n",
            " function_calls: 3\n",
            "     iterations: 2\n",
            "           root: 1.0\n"
          ]
        }
      ]
    },
    {
      "cell_type": "markdown",
      "source": [
        "Два значения которые мы откинули\n"
      ],
      "metadata": {
        "id": "JjHb8boMrjiZ"
      }
    },
    {
      "cell_type": "code",
      "source": [
        "h,r = brentq(F2a, -12, 0.5,full_output = True)\n",
        "print(h,r)"
      ],
      "metadata": {
        "colab": {
          "base_uri": "https://localhost:8080/"
        },
        "id": "jDveTMfNrEJV",
        "outputId": "6ebe585b-c4be-4582-d86b-8697c78878c8"
      },
      "execution_count": 53,
      "outputs": [
        {
          "output_type": "stream",
          "name": "stdout",
          "text": [
            "-0.7320508075688773       converged: True\n",
            "           flag: 'converged'\n",
            " function_calls: 16\n",
            "     iterations: 15\n",
            "           root: -0.7320508075688773\n"
          ]
        }
      ]
    },
    {
      "cell_type": "code",
      "source": [
        "h,r = brentq(F2a, -5, 3,full_output = True)\n",
        "print(h,r)"
      ],
      "metadata": {
        "colab": {
          "base_uri": "https://localhost:8080/"
        },
        "id": "jwOr7BiQq1Yw",
        "outputId": "f5edc97f-816f-43cf-f4ae-5c3ecba71def"
      },
      "execution_count": 41,
      "outputs": [
        {
          "output_type": "stream",
          "name": "stdout",
          "text": [
            "2.7320508075688776       converged: True\n",
            "           flag: 'converged'\n",
            " function_calls: 9\n",
            "     iterations: 8\n",
            "           root: 2.7320508075688776\n"
          ]
        }
      ]
    },
    {
      "cell_type": "markdown",
      "source": [
        "    2.b R=1, p=755; p0=997;"
      ],
      "metadata": {
        "id": "6y42kcZ0oac6"
      }
    },
    {
      "cell_type": "code",
      "source": [
        "def F2b(h):\n",
        "    x_all.append(h)\n",
        "    return 997*h**3-3*997*h**2+4*755\n",
        "h_all = []\n",
        "h,r = brentq(F2b, 0, 2,full_output = True)\n",
        "print(h_all)\n",
        "print(h,r)"
      ],
      "metadata": {
        "colab": {
          "base_uri": "https://localhost:8080/"
        },
        "id": "ZZ8mrOIZpHS1",
        "outputId": "e608468f-cfb0-46d1-f800-093b4afb5d60"
      },
      "execution_count": 36,
      "outputs": [
        {
          "output_type": "stream",
          "name": "stdout",
          "text": [
            "[]\n",
            "1.3583709113457798       converged: True\n",
            "           flag: 'converged'\n",
            " function_calls: 10\n",
            "     iterations: 9\n",
            "           root: 1.3583709113457798\n"
          ]
        }
      ]
    },
    {
      "cell_type": "markdown",
      "source": [
        "Значения которые мы откинули"
      ],
      "metadata": {
        "id": "GWn-grJer0Qi"
      }
    },
    {
      "cell_type": "code",
      "source": [
        "h,r = brentq(F2b, -12, 0.5,full_output = True)\n",
        "print(h,r)"
      ],
      "metadata": {
        "colab": {
          "base_uri": "https://localhost:8080/"
        },
        "id": "5jCuUWIVr4s0",
        "outputId": "f1dbfee1-a63a-4113-9bb8-015953c41030"
      },
      "execution_count": 56,
      "outputs": [
        {
          "output_type": "stream",
          "name": "stdout",
          "text": [
            "-0.8832035651499859       converged: True\n",
            "           flag: 'converged'\n",
            " function_calls: 15\n",
            "     iterations: 14\n",
            "           root: -0.8832035651499859\n"
          ]
        }
      ]
    },
    {
      "cell_type": "code",
      "source": [
        "h,r = brentq(F2b, -5, 3,full_output = True)\n",
        "print(h,r)"
      ],
      "metadata": {
        "colab": {
          "base_uri": "https://localhost:8080/"
        },
        "id": "-s5TZ3n3sLAM",
        "outputId": "d617aaef-9b68-4ff3-fa62-0501e0aeada0"
      },
      "execution_count": 57,
      "outputs": [
        {
          "output_type": "stream",
          "name": "stdout",
          "text": [
            "2.524832653804206       converged: True\n",
            "           flag: 'converged'\n",
            " function_calls: 13\n",
            "     iterations: 12\n",
            "           root: 2.524832653804206\n"
          ]
        }
      ]
    },
    {
      "cell_type": "markdown",
      "source": [
        "3 Построить график зависимости глубины погружения шара единичного радиуса от p/p0"
      ],
      "metadata": {
        "id": "cE-6tsI2sXdt"
      }
    },
    {
      "cell_type": "markdown",
      "source": [],
      "metadata": {
        "id": "_WtaBg1twEFX"
      }
    },
    {
      "cell_type": "markdown",
      "source": [
        "Пусть y = p/p0, а x это глубина тогда нужно построить график функции y=(3h^2r-h^3)/(4r^3)\\\n",
        "Так как r=1, то y=(3h^2-h^3)/4\n"
      ],
      "metadata": {
        "id": "fvVPyLrrs0f3"
      }
    },
    {
      "cell_type": "code",
      "source": [
        "import numpy as np\n",
        "import matplotlib.pyplot as plt\n",
        "%matplotlib inline\n",
        "def Fgr(h):\n",
        "  return (3*h**2-h**3)/4\n",
        "xx = np.linspace(0, 2, 1000)\n",
        "yy = Fgr(xx);\n",
        "plt.plot(xx, yy)"
      ],
      "metadata": {
        "colab": {
          "base_uri": "https://localhost:8080/",
          "height": 447
        },
        "id": "8FdYhLw3uv53",
        "outputId": "5c93a4bb-e5a9-46ce-8c23-d9168e9bb923"
      },
      "execution_count": 67,
      "outputs": [
        {
          "output_type": "execute_result",
          "data": {
            "text/plain": [
              "[<matplotlib.lines.Line2D at 0x7fa95f2c2460>]"
            ]
          },
          "metadata": {},
          "execution_count": 67
        },
        {
          "output_type": "display_data",
          "data": {
            "text/plain": [
              "<Figure size 640x480 with 1 Axes>"
            ],
            "image/png": "[encoded data removed]"
          },
          "metadata": {}
        }
      ]
    },
    {
      "cell_type": "markdown",
      "source": [
        "Выводы \\\n",
        "1) Отношение объема погруженной части тела к полному обёму тела равно отношению плотности тела к плотности жидкости\\\n",
        "    2) В случае с уровнениями, где больше одного корня нужно правильно подбирать границы промежутка для brentq\\\n",
        "    3) Пока тело не погрузиться полностью, чем больше отношение p/p0 тем глубже погружено тело"
      ],
      "metadata": {
        "id": "Jyz7bF5Ux0SF"
      }
    }
  ]
}